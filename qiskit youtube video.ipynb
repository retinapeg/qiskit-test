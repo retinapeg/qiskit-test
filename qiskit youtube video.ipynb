{
 "cells": [
  {
   "cell_type": "code",
   "execution_count": 19,
   "id": "8732bb82",
   "metadata": {},
   "outputs": [
    {
     "data": {
      "text/html": [
       "<pre style=\"word-wrap: normal;white-space: pre;background: #fff0;line-height: 1.1;font-family: &quot;Courier New&quot;,Courier,monospace\">      \n",
       "q8_0: \n",
       "      \n",
       "q8_1: \n",
       "      \n",
       "c8: 2/\n",
       "      </pre>"
      ],
      "text/plain": [
       "      \n",
       "q8_0: \n",
       "      \n",
       "q8_1: \n",
       "      \n",
       "c8: 2/\n",
       "      "
      ]
     },
     "execution_count": 19,
     "metadata": {},
     "output_type": "execute_result"
    }
   ],
   "source": [
    "from qiskit import QuantumRegister, ClassicalRegister, QuantumCircuit\n",
    "\n",
    "# Create a quantum register with 2 qubits\n",
    "qr = QuantumRegister(2)\n",
    "\n",
    "# Create a classical register with 2 classical bits\n",
    "cr = ClassicalRegister(2)\n",
    "\n",
    "# Create a quantum circuit using the quantum and classical registers\n",
    "circuit = QuantumCircuit(qr, cr)\n",
    "\n",
    "# Print the circuit diagram using the Matplotlib drawer\n"
   ]
  },
  {
   "cell_type": "code",
   "execution_count": 20,
   "id": "ead1e080",
   "metadata": {},
   "outputs": [],
   "source": [
    "%matplotlib inline"
   ]
  },
  {
   "cell_type": "code",
   "execution_count": 21,
   "id": "e44c7fb3",
   "metadata": {
    "scrolled": true
   },
   "outputs": [
    {
     "data": {
      "text/html": [
       "<pre style=\"word-wrap: normal;white-space: pre;background: #fff0;line-height: 1.1;font-family: &quot;Courier New&quot;,Courier,monospace\">      \n",
       "q8_0: \n",
       "      \n",
       "q8_1: \n",
       "      \n",
       "c8: 2/\n",
       "      </pre>"
      ],
      "text/plain": [
       "      \n",
       "q8_0: \n",
       "      \n",
       "q8_1: \n",
       "      \n",
       "c8: 2/\n",
       "      "
      ]
     },
     "execution_count": 21,
     "metadata": {},
     "output_type": "execute_result"
    }
   ],
   "source": [
    "circuit.draw()"
   ]
  },
  {
   "cell_type": "code",
   "execution_count": 23,
   "id": "5397132d",
   "metadata": {},
   "outputs": [
    {
     "data": {
      "text/plain": [
       "<qiskit.circuit.instructionset.InstructionSet at 0x13684ee30>"
      ]
     },
     "execution_count": 23,
     "metadata": {},
     "output_type": "execute_result"
    }
   ],
   "source": [
    "circuit.h(qr[0])"
   ]
  },
  {
   "cell_type": "code",
   "execution_count": 25,
   "id": "f95e9ff2",
   "metadata": {},
   "outputs": [
    {
     "data": {
      "image/png": "[encoded data removed]",
      "text/plain": [
       "<Figure size 221.914x284.278 with 1 Axes>"
      ]
     },
     "execution_count": 25,
     "metadata": {},
     "output_type": "execute_result"
    }
   ],
   "source": [
    "circuit.draw(output='mpl')"
   ]
  },
  {
   "cell_type": "code",
   "execution_count": 26,
   "id": "fcfce38d",
   "metadata": {
    "scrolled": true
   },
   "outputs": [
    {
     "data": {
      "text/plain": [
       "<qiskit.circuit.instructionset.InstructionSet at 0x1368b5150>"
      ]
     },
     "execution_count": 26,
     "metadata": {},
     "output_type": "execute_result"
    }
   ],
   "source": [
    "circuit.cx(qr[0],qr[1])"
   ]
  },
  {
   "cell_type": "code",
   "execution_count": 27,
   "id": "2fe7543d",
   "metadata": {
    "scrolled": true
   },
   "outputs": [
    {
     "data": {
      "image/png": "[encoded data removed]",
      "text/plain": [
       "<Figure size 305.525x284.278 with 1 Axes>"
      ]
     },
     "execution_count": 27,
     "metadata": {},
     "output_type": "execute_result"
    }
   ],
   "source": [
    "circuit.draw(output='mpl')"
   ]
  },
  {
   "cell_type": "code",
   "execution_count": 28,
   "id": "5e63bd89",
   "metadata": {
    "scrolled": true
   },
   "outputs": [
    {
     "data": {
      "text/plain": [
       "<qiskit.circuit.instructionset.InstructionSet at 0x1368b7010>"
      ]
     },
     "execution_count": 28,
     "metadata": {},
     "output_type": "execute_result"
    }
   ],
   "source": [
    "circuit.measure(qr,cr)"
   ]
  },
  {
   "cell_type": "code",
   "execution_count": 29,
   "id": "f39606a0",
   "metadata": {},
   "outputs": [
    {
     "data": {
      "image/png": "[encoded data removed]",
      "text/plain": [
       "<Figure size 472.747x284.278 with 1 Axes>"
      ]
     },
     "execution_count": 29,
     "metadata": {},
     "output_type": "execute_result"
    }
   ],
   "source": [
    "circuit.draw(output='mpl')"
   ]
  },
  {
   "cell_type": "code",
   "execution_count": 30,
   "id": "5f3d910f",
   "metadata": {},
   "outputs": [],
   "source": [
    "simulator = Aer.get_backend('qasm_simulator')"
   ]
  },
  {
   "cell_type": "code",
   "execution_count": 35,
   "id": "357d592c",
   "metadata": {},
   "outputs": [],
   "source": [
    "result = execute(circuit,backend = simulator).result()"
   ]
  },
  {
   "cell_type": "code",
   "execution_count": 36,
   "id": "8241337b",
   "metadata": {},
   "outputs": [],
   "source": [
    "from qiskit.visualization import plot_histogram"
   ]
  },
  {
   "cell_type": "code",
   "execution_count": 43,
   "id": "340bf7f9",
   "metadata": {
    "scrolled": true
   },
   "outputs": [
    {
     "data": {
      "image/png": "[encoded data removed]",
      "text/plain": [
       "<Figure size 700x500 with 1 Axes>"
      ]
     },
     "execution_count": 43,
     "metadata": {},
     "output_type": "execute_result"
    }
   ],
   "source": [
    "plot_histogram(result.get_counts(circuit))"
   ]
  },
  {
   "cell_type": "code",
   "execution_count": 45,
   "id": "421464a3",
   "metadata": {},
   "outputs": [],
   "source": [
    "from qiskit import IBMQ"
   ]
  },
  {
   "cell_type": "code",
   "execution_count": 46,
   "id": "5cf61f22",
   "metadata": {},
   "outputs": [
    {
     "name": "stderr",
     "output_type": "stream",
     "text": [
      "ibmqfactory.load_account:WARNING:2023-10-02 11:08:29,742: Credentials are already in use. The existing account in the session will be replaced.\n"
     ]
    },
    {
     "data": {
      "text/plain": [
       "<AccountProvider for IBMQ(hub='ibm-q', group='open', project='main')>"
      ]
     },
     "execution_count": 46,
     "metadata": {},
     "output_type": "execute_result"
    }
   ],
   "source": [
    "IBMQ.load_account()"
   ]
  },
  {
   "cell_type": "code",
   "execution_count": 48,
   "id": "8c11b24a",
   "metadata": {},
   "outputs": [],
   "source": [
    "provider = IBMQ.get_provider(hub='ibm-q')"
   ]
  },
  {
   "cell_type": "code",
   "execution_count": 51,
   "id": "b2094291",
   "metadata": {},
   "outputs": [
    {
     "data": {
      "text/plain": [
       "[<IBMQSimulator('ibmq_qasm_simulator') from IBMQ(hub='ibm-q', group='open', project='main')>,\n",
       " <IBMQSimulator('simulator_statevector') from IBMQ(hub='ibm-q', group='open', project='main')>,\n",
       " <IBMQSimulator('simulator_mps') from IBMQ(hub='ibm-q', group='open', project='main')>,\n",
       " <IBMQSimulator('simulator_extended_stabilizer') from IBMQ(hub='ibm-q', group='open', project='main')>,\n",
       " <IBMQSimulator('simulator_stabilizer') from IBMQ(hub='ibm-q', group='open', project='main')>,\n",
       " <IBMQBackend('ibm_lagos') from IBMQ(hub='ibm-q', group='open', project='main')>,\n",
       " <IBMQBackend('ibm_nairobi') from IBMQ(hub='ibm-q', group='open', project='main')>,\n",
       " <IBMQBackend('ibm_perth') from IBMQ(hub='ibm-q', group='open', project='main')>,\n",
       " <IBMQBackend('ibm_brisbane') from IBMQ(hub='ibm-q', group='open', project='main')>]"
      ]
     },
     "execution_count": 51,
     "metadata": {},
     "output_type": "execute_result"
    }
   ],
   "source": [
    "provider.backends()"
   ]
  },
  {
   "cell_type": "code",
   "execution_count": null,
   "id": "03fdf7b6",
   "metadata": {},
   "outputs": [],
   "source": []
  },
  {
   "cell_type": "code",
   "execution_count": 56,
   "id": "9235508e",
   "metadata": {},
   "outputs": [],
   "source": [
    "qcomp = provider.get_backend('ibm_perth')"
   ]
  },
  {
   "cell_type": "code",
   "execution_count": 57,
   "id": "ab292a52",
   "metadata": {},
   "outputs": [],
   "source": [
    "job = execute(circuit, backend = qcomp)"
   ]
  },
  {
   "cell_type": "code",
   "execution_count": 58,
   "id": "39c35941",
   "metadata": {},
   "outputs": [],
   "source": [
    "from qiskit.tools.monitor import job_monitor"
   ]
  },
  {
   "cell_type": "code",
   "execution_count": null,
   "id": "a3a30fa4",
   "metadata": {},
   "outputs": [
    {
     "name": "stdout",
     "output_type": "stream",
     "text": [
      "Job Status: job is queued (None)"
     ]
    }
   ],
   "source": [
    "job_monitor(job)"
   ]
  },
  {
   "cell_type": "code",
   "execution_count": null,
   "id": "de7af92c",
   "metadata": {},
   "outputs": [],
   "source": [
    "job_status = job.status()\n",
    "print(\"Job Status:\", job_status)"
   ]
  },
  {
   "cell_type": "code",
   "execution_count": null,
   "id": "0d7bb23c",
   "metadata": {},
   "outputs": [],
   "source": []
  },
  {
   "cell_type": "code",
   "execution_count": null,
   "id": "ea8d3acb",
   "metadata": {},
   "outputs": [],
   "source": [
    "result = job.result()\n",
    "plot_histogram(result)"
   ]
  }
 ],
 "metadata": {
  "kernelspec": {
   "display_name": "Python 3 (ipykernel)",
   "language": "python",
   "name": "python3"
  },
  "language_info": {
   "codemirror_mode": {
    "name": "ipython",
    "version": 3
   },
   "file_extension": ".py",
   "mimetype": "text/x-python",
   "name": "python",
   "nbconvert_exporter": "python",
   "pygments_lexer": "ipython3",
   "version": "3.11.4"
  }
 },
 "nbformat": 4,
 "nbformat_minor": 5
}
